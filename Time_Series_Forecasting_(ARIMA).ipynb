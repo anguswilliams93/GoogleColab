{
  "cells": [
    {
      "cell_type": "markdown",
      "source": [
        "#Time Series Forecasting With ARIMA Model in Python for Transaction Prediction\n",
        "\n",
        "Time Series forecasting is one of the most in-demand techniques of data science, be it in stock trading, predicting business sales or weather forecasting.\n",
        "\n",
        "The following Time Series Forecasting is to predict the amount of Transactions of a client.\n",
        "\n",
        "First we need to import the data."
      ],
      "metadata": {
        "id": "6otACoqyjJcp"
      }
    },
    {
      "cell_type": "code",
      "source": [
        "pip install pmdarima"
      ],
      "metadata": {
        "colab": {
          "base_uri": "https://localhost:8080/"
        },
        "id": "iKStXmOjxPIR",
        "outputId": "6dcc1a88-f34a-4104-885f-f6091b7d6fbb"
      },
      "execution_count": null,
      "outputs": [
        {
          "output_type": "stream",
          "name": "stdout",
          "text": [
            "Looking in indexes: https://pypi.org/simple, https://us-python.pkg.dev/colab-wheels/public/simple/\n",
            "Requirement already satisfied: pmdarima in /usr/local/lib/python3.7/dist-packages (1.8.5)\n",
            "Requirement already satisfied: scipy>=1.3.2 in /usr/local/lib/python3.7/dist-packages (from pmdarima) (1.7.3)\n",
            "Requirement already satisfied: statsmodels!=0.12.0,>=0.11 in /usr/local/lib/python3.7/dist-packages (from pmdarima) (0.13.2)\n",
            "Requirement already satisfied: joblib>=0.11 in /usr/local/lib/python3.7/dist-packages (from pmdarima) (1.1.0)\n",
            "Requirement already satisfied: setuptools!=50.0.0,>=38.6.0 in /usr/local/lib/python3.7/dist-packages (from pmdarima) (57.4.0)\n",
            "Requirement already satisfied: numpy>=1.19.3 in /usr/local/lib/python3.7/dist-packages (from pmdarima) (1.21.6)\n",
            "Requirement already satisfied: urllib3 in /usr/local/lib/python3.7/dist-packages (from pmdarima) (1.24.3)\n",
            "Requirement already satisfied: pandas>=0.19 in /usr/local/lib/python3.7/dist-packages (from pmdarima) (1.3.5)\n",
            "Requirement already satisfied: Cython!=0.29.18,>=0.29 in /usr/local/lib/python3.7/dist-packages (from pmdarima) (0.29.30)\n",
            "Requirement already satisfied: scikit-learn>=0.22 in /usr/local/lib/python3.7/dist-packages (from pmdarima) (1.0.2)\n",
            "Requirement already satisfied: pytz>=2017.3 in /usr/local/lib/python3.7/dist-packages (from pandas>=0.19->pmdarima) (2022.1)\n",
            "Requirement already satisfied: python-dateutil>=2.7.3 in /usr/local/lib/python3.7/dist-packages (from pandas>=0.19->pmdarima) (2.8.2)\n",
            "Requirement already satisfied: six>=1.5 in /usr/local/lib/python3.7/dist-packages (from python-dateutil>=2.7.3->pandas>=0.19->pmdarima) (1.15.0)\n",
            "Requirement already satisfied: threadpoolctl>=2.0.0 in /usr/local/lib/python3.7/dist-packages (from scikit-learn>=0.22->pmdarima) (3.1.0)\n",
            "Requirement already satisfied: patsy>=0.5.2 in /usr/local/lib/python3.7/dist-packages (from statsmodels!=0.12.0,>=0.11->pmdarima) (0.5.2)\n",
            "Requirement already satisfied: packaging>=21.3 in /usr/local/lib/python3.7/dist-packages (from statsmodels!=0.12.0,>=0.11->pmdarima) (21.3)\n",
            "Requirement already satisfied: pyparsing!=3.0.5,>=2.0.2 in /usr/local/lib/python3.7/dist-packages (from packaging>=21.3->statsmodels!=0.12.0,>=0.11->pmdarima) (3.0.9)\n"
          ]
        }
      ]
    },
    {
      "cell_type": "code",
      "execution_count": null,
      "metadata": {
        "id": "-3KehxVok8FJ"
      },
      "outputs": [],
      "source": [
        "from google.colab import auth\n",
        "auth.authenticate_user()\n",
        "\n",
        "import gspread\n",
        "from google.auth import default\n",
        "creds, _ = default()\n",
        "\n",
        "gc = gspread.authorize(creds)\n",
        "worksheet = gc.open('data_transactions').sheet1\n",
        "rows = worksheet.get_all_values()"
      ]
    },
    {
      "cell_type": "markdown",
      "source": [
        "Now we need to clean the data."
      ],
      "metadata": {
        "id": "WwgPGpuklRNG"
      }
    },
    {
      "cell_type": "code",
      "source": [
        "import pandas as pd\n",
        "import numpy as np\n",
        "df = pd.DataFrame.from_records(rows, \n",
        "                                columns=['BatchCount', 'Date', 'TranType', 'Action', 'TranCount'])\n",
        "\n",
        "df = df.astype({'BatchCount': int, 'TranType': str, 'Date': np.datetime64, 'Action': str, 'TranCount': int  })\n",
        "\n",
        "df_final = df.set_index('Date')"
      ],
      "metadata": {
        "id": "ufJtzGMxkF8D"
      },
      "execution_count": null,
      "outputs": []
    },
    {
      "cell_type": "markdown",
      "source": [
        "Next step is to plot the data, to see if its stationary or not. To see the values in our case (transactions) are less or more associated with time. \n",
        "\n",
        "\n",
        "1. Constant Mean\n",
        "2. Constant Variance(There can be variations, but the variations shouldn’t be irregular)\n",
        "3. No seasonality(No repeating patterns in the data set)"
      ],
      "metadata": {
        "id": "1IXSYpb8mjkQ"
      }
    },
    {
      "cell_type": "code",
      "execution_count": null,
      "metadata": {
        "colab": {
          "base_uri": "https://localhost:8080/",
          "height": 343
        },
        "id": "1GS97aZme40s",
        "outputId": "98db9bec-da94-487c-97ca-9ee5e61f3fc8"
      },
      "outputs": [
        {
          "output_type": "execute_result",
          "data": {
            "text/plain": [
              "<matplotlib.axes._subplots.AxesSubplot at 0x7f8d23344ed0>"
            ]
          },
          "metadata": {},
          "execution_count": 4
        },
        {
          "output_type": "display_data",
          "data": {
            "text/plain": [
              "<Figure size 864x360 with 1 Axes>"
            ],
            "image/png": "[encoded data removed]"
          },
          "metadata": {
            "needs_background": "light"
          }
        }
      ],
      "source": [
        "from dateutil.parser import parse \n",
        "import matplotlib as mpl\n",
        "import matplotlib.pyplot as plt\n",
        "import seaborn as sns\n",
        "\n",
        "df_final['TranCount'].plot(figsize=(12,5))"
      ]
    },
    {
      "cell_type": "markdown",
      "source": [
        "To check to see if the data is statistically stationary, we run a adfuller test. If the p-value < 0.05 then the data is stationary, otherwise it isn't. As you can see below, it is less then 0.05, therefore we can confirm its stationary."
      ],
      "metadata": {
        "id": "HrlozAVnwNwb"
      }
    },
    {
      "cell_type": "code",
      "source": [
        "from statsmodels.tsa.stattools import adfuller\n",
        "\n",
        "def ad_test(dataset):\n",
        "     dftest = adfuller(dataset, autolag = 'AIC')\n",
        "     print(\"1. ADF : \",dftest[0])\n",
        "     print(\"2. P-Value : \", dftest[1])\n",
        "     print(\"3. Num Of Lags : \", dftest[2])\n",
        "     print(\"4. Num Of Observations Used For ADF Regression:\",      dftest[3])\n",
        "     print(\"5. Critical Values :\")\n",
        "     for key, val in dftest[4].items():\n",
        "         print(\"\\t\",key, \": \", val)\n",
        "\n",
        "\n",
        "ad_test(df_final['TranCount'])"
      ],
      "metadata": {
        "colab": {
          "base_uri": "https://localhost:8080/"
        },
        "id": "ZlgoKbYkvKhR",
        "outputId": "65db22b9-4881-4420-ba1f-818b902aab03"
      },
      "execution_count": null,
      "outputs": [
        {
          "output_type": "stream",
          "name": "stdout",
          "text": [
            "1. ADF :  -10.622586432395575\n",
            "2. P-Value :  5.466989908052055e-19\n",
            "3. Num Of Lags :  26\n",
            "4. Num Of Observations Used For ADF Regression: 4052\n",
            "5. Critical Values :\n",
            "\t 1% :  -3.4319648685793593\n",
            "\t 5% :  -2.862253560551524\n",
            "\t 10% :  -2.5671498354486446\n"
          ]
        }
      ]
    },
    {
      "cell_type": "markdown",
      "source": [
        "We simple supply our data to the auto_arima function. The function basically uses something called as the AIC score to judge how good a particular order model is. It simply tries to minimize the AIC score, and here’s how the output looks like:"
      ],
      "metadata": {
        "id": "D99M6Piqzb8z"
      }
    },
    {
      "cell_type": "code",
      "source": [
        "from pmdarima import auto_arima\n",
        "stepwise_fit = auto_arima(df_final['TranCount'], trace=True,\n",
        "suppress_warnings=True)"
      ],
      "metadata": {
        "colab": {
          "base_uri": "https://localhost:8080/"
        },
        "id": "4Vct_T_CxDTw",
        "outputId": "adc404f3-41a6-4a8f-d5b7-a2030e37b5bd"
      },
      "execution_count": null,
      "outputs": [
        {
          "output_type": "stream",
          "name": "stdout",
          "text": [
            "Performing stepwise search to minimize aic\n"
          ]
        }
      ]
    },
    {
      "cell_type": "markdown",
      "source": [
        "We can see the best ARIMA model seems to be of the order ARIMA(5,0,2)(0,0,0) intercept with the minimum AIC = 95120.928. Now we can train our procedure with this type of model."
      ],
      "metadata": {
        "id": "5YtuUjEDzfQh"
      }
    },
    {
      "cell_type": "markdown",
      "source": [
        "We now have to split the data set into a training and testing section. We do this because we first train the model on the data and keep the testing section hidden from the model. Once model is ready, we ask it to make predictions on the test data and see how well it performs."
      ],
      "metadata": {
        "id": "P9KM9gxj0JBL"
      }
    },
    {
      "cell_type": "code",
      "source": [
        "print('Before Split :', df_final.shape)\n",
        "train=df_final.iloc[:-30]\n",
        "test=df_final.iloc[-30:]\n",
        "print('After Split :', train.shape, test.shape)"
      ],
      "metadata": {
        "id": "bhmboKrU0Poz"
      },
      "execution_count": null,
      "outputs": []
    },
    {
      "cell_type": "code",
      "source": [
        "import statsmodels.tsa.arima.model as sm\n",
        "\n",
        "model = sm.ARIMA(train['TranCount'], order=(5,0,2))\n",
        "model = model.fit()\n",
        "model.summary()"
      ],
      "metadata": {
        "id": "UAvENG452Er1"
      },
      "execution_count": null,
      "outputs": []
    },
    {
      "cell_type": "code",
      "source": [
        "start=len(train)\n",
        "end=len(train)+len(test)-1\n",
        "\n",
        "pred=model.predict(start=start,end=end,typ='levels').rename('ARIMA Predictions')\n",
        "\n",
        "pred.plot(legend=True)"
      ],
      "metadata": {
        "id": "T423JEyF6RsZ"
      },
      "execution_count": null,
      "outputs": []
    },
    {
      "cell_type": "code",
      "source": [
        "from sklearn.metrics import mean_squared_error\n",
        "from math import sqrt\n",
        "\n",
        "test['TranCount'].mean()\n",
        "rmse=sqrt(mean_squared_error(pred,test['TranCount']))\n",
        "print(rmse)"
      ],
      "metadata": {
        "id": "_3KDiars6_x0"
      },
      "execution_count": null,
      "outputs": []
    }
  ],
  "metadata": {
    "colab": {
      "name": "Time Series Forecasting (ARIMA).ipynb",
      "provenance": [],
      "collapsed_sections": [
        "6otACoqyjJcp"
      ],
      "toc_visible": true
    },
    "kernelspec": {
      "display_name": "Python 3",
      "name": "python3"
    },
    "language_info": {
      "name": "python"
    }
  },
  "nbformat": 4,
  "nbformat_minor": 0
}