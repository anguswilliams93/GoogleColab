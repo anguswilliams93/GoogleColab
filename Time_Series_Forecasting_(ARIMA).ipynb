{
  "cells": [
    {
      "cell_type": "markdown",
      "metadata": {
        "id": "view-in-github",
        "colab_type": "text"
      },
      "source": [
        "<a href=\"https://colab.research.google.com/github/anguswilliams93/GoogleColab/blob/main/Time_Series_Forecasting_(ARIMA).ipynb\" target=\"_parent\"><img src=\"https://colab.research.google.com/assets/colab-badge.svg\" alt=\"Open In Colab\"/></a>"
      ]
    },
    {
      "cell_type": "markdown",
      "metadata": {
        "id": "6otACoqyjJcp"
      },
      "source": [
        "#Time Series Forecasting With ARIMA Model in Python for Transaction Prediction\n",
        "\n",
        "Time Series forecasting is one of the most in-demand techniques of data science, be it in stock trading, predicting business sales or weather forecasting.\n",
        "\n",
        "The following Time Series Forecasting is to predict the amount of Transactions of a client.\n",
        "\n",
        "First we need to import the data."
      ]
    },
    {
      "cell_type": "code",
      "execution_count": 3,
      "metadata": {
        "id": "-3KehxVok8FJ"
      },
      "outputs": [],
      "source": [
        "from google.colab import auth\n",
        "auth.authenticate_user()\n",
        "\n",
        "import gspread\n",
        "from google.auth import default\n",
        "creds, _ = default()\n",
        "\n",
        "gc = gspread.authorize(creds)\n",
        "worksheet = gc.open('data_transactions').sheet1\n",
        "rows = worksheet.get_all_values()"
      ]
    },
    {
      "cell_type": "markdown",
      "metadata": {
        "id": "WwgPGpuklRNG"
      },
      "source": [
        "Now we need to clean the data."
      ]
    },
    {
      "cell_type": "code",
      "execution_count": 52,
      "metadata": {
        "id": "ufJtzGMxkF8D",
        "colab": {
          "base_uri": "https://localhost:8080/",
          "height": 455
        },
        "outputId": "0cf6414e-60a8-4efa-e088-ac23bb0aba69"
      },
      "outputs": [
        {
          "output_type": "execute_result",
          "data": {
            "text/plain": [
              "            TranCount\n",
              "Date                 \n",
              "2020-01-01        901\n",
              "2020-01-02          4\n",
              "2020-01-03      43126\n",
              "2020-01-06      38806\n",
              "2020-01-07      30524\n",
              "...               ...\n",
              "2022-06-06     169937\n",
              "2022-06-07      44309\n",
              "2022-06-08      49912\n",
              "2022-06-09     104489\n",
              "2022-06-10     170834\n",
              "\n",
              "[609 rows x 1 columns]"
            ],
            "text/html": [
              "\n",
              "  <div id=\"df-5ba1e9ae-8b04-4930-a059-713ec0e3a470\">\n",
              "    <div class=\"colab-df-container\">\n",
              "      <div>\n",
              "<style scoped>\n",
              "    .dataframe tbody tr th:only-of-type {\n",
              "        vertical-align: middle;\n",
              "    }\n",
              "\n",
              "    .dataframe tbody tr th {\n",
              "        vertical-align: top;\n",
              "    }\n",
              "\n",
              "    .dataframe thead th {\n",
              "        text-align: right;\n",
              "    }\n",
              "</style>\n",
              "<table border=\"1\" class=\"dataframe\">\n",
              "  <thead>\n",
              "    <tr style=\"text-align: right;\">\n",
              "      <th></th>\n",
              "      <th>TranCount</th>\n",
              "    </tr>\n",
              "    <tr>\n",
              "      <th>Date</th>\n",
              "      <th></th>\n",
              "    </tr>\n",
              "  </thead>\n",
              "  <tbody>\n",
              "    <tr>\n",
              "      <th>2020-01-01</th>\n",
              "      <td>901</td>\n",
              "    </tr>\n",
              "    <tr>\n",
              "      <th>2020-01-02</th>\n",
              "      <td>4</td>\n",
              "    </tr>\n",
              "    <tr>\n",
              "      <th>2020-01-03</th>\n",
              "      <td>43126</td>\n",
              "    </tr>\n",
              "    <tr>\n",
              "      <th>2020-01-06</th>\n",
              "      <td>38806</td>\n",
              "    </tr>\n",
              "    <tr>\n",
              "      <th>2020-01-07</th>\n",
              "      <td>30524</td>\n",
              "    </tr>\n",
              "    <tr>\n",
              "      <th>...</th>\n",
              "      <td>...</td>\n",
              "    </tr>\n",
              "    <tr>\n",
              "      <th>2022-06-06</th>\n",
              "      <td>169937</td>\n",
              "    </tr>\n",
              "    <tr>\n",
              "      <th>2022-06-07</th>\n",
              "      <td>44309</td>\n",
              "    </tr>\n",
              "    <tr>\n",
              "      <th>2022-06-08</th>\n",
              "      <td>49912</td>\n",
              "    </tr>\n",
              "    <tr>\n",
              "      <th>2022-06-09</th>\n",
              "      <td>104489</td>\n",
              "    </tr>\n",
              "    <tr>\n",
              "      <th>2022-06-10</th>\n",
              "      <td>170834</td>\n",
              "    </tr>\n",
              "  </tbody>\n",
              "</table>\n",
              "<p>609 rows × 1 columns</p>\n",
              "</div>\n",
              "      <button class=\"colab-df-convert\" onclick=\"convertToInteractive('df-5ba1e9ae-8b04-4930-a059-713ec0e3a470')\"\n",
              "              title=\"Convert this dataframe to an interactive table.\"\n",
              "              style=\"display:none;\">\n",
              "        \n",
              "  <svg xmlns=\"http://www.w3.org/2000/svg\" height=\"24px\"viewBox=\"0 0 24 24\"\n",
              "       width=\"24px\">\n",
              "    <path d=\"M0 0h24v24H0V0z\" fill=\"none\"/>\n",
              "    <path d=\"M18.56 5.44l.94 2.06.94-2.06 2.06-.94-2.06-.94-.94-2.06-.94 2.06-2.06.94zm-11 1L8.5 8.5l.94-2.06 2.06-.94-2.06-.94L8.5 2.5l-.94 2.06-2.06.94zm10 10l.94 2.06.94-2.06 2.06-.94-2.06-.94-.94-2.06-.94 2.06-2.06.94z\"/><path d=\"M17.41 7.96l-1.37-1.37c-.4-.4-.92-.59-1.43-.59-.52 0-1.04.2-1.43.59L10.3 9.45l-7.72 7.72c-.78.78-.78 2.05 0 2.83L4 21.41c.39.39.9.59 1.41.59.51 0 1.02-.2 1.41-.59l7.78-7.78 2.81-2.81c.8-.78.8-2.07 0-2.86zM5.41 20L4 18.59l7.72-7.72 1.47 1.35L5.41 20z\"/>\n",
              "  </svg>\n",
              "      </button>\n",
              "      \n",
              "  <style>\n",
              "    .colab-df-container {\n",
              "      display:flex;\n",
              "      flex-wrap:wrap;\n",
              "      gap: 12px;\n",
              "    }\n",
              "\n",
              "    .colab-df-convert {\n",
              "      background-color: #E8F0FE;\n",
              "      border: none;\n",
              "      border-radius: 50%;\n",
              "      cursor: pointer;\n",
              "      display: none;\n",
              "      fill: #1967D2;\n",
              "      height: 32px;\n",
              "      padding: 0 0 0 0;\n",
              "      width: 32px;\n",
              "    }\n",
              "\n",
              "    .colab-df-convert:hover {\n",
              "      background-color: #E2EBFA;\n",
              "      box-shadow: 0px 1px 2px rgba(60, 64, 67, 0.3), 0px 1px 3px 1px rgba(60, 64, 67, 0.15);\n",
              "      fill: #174EA6;\n",
              "    }\n",
              "\n",
              "    [theme=dark] .colab-df-convert {\n",
              "      background-color: #3B4455;\n",
              "      fill: #D2E3FC;\n",
              "    }\n",
              "\n",
              "    [theme=dark] .colab-df-convert:hover {\n",
              "      background-color: #434B5C;\n",
              "      box-shadow: 0px 1px 3px 1px rgba(0, 0, 0, 0.15);\n",
              "      filter: drop-shadow(0px 1px 2px rgba(0, 0, 0, 0.3));\n",
              "      fill: #FFFFFF;\n",
              "    }\n",
              "  </style>\n",
              "\n",
              "      <script>\n",
              "        const buttonEl =\n",
              "          document.querySelector('#df-5ba1e9ae-8b04-4930-a059-713ec0e3a470 button.colab-df-convert');\n",
              "        buttonEl.style.display =\n",
              "          google.colab.kernel.accessAllowed ? 'block' : 'none';\n",
              "\n",
              "        async function convertToInteractive(key) {\n",
              "          const element = document.querySelector('#df-5ba1e9ae-8b04-4930-a059-713ec0e3a470');\n",
              "          const dataTable =\n",
              "            await google.colab.kernel.invokeFunction('convertToInteractive',\n",
              "                                                     [key], {});\n",
              "          if (!dataTable) return;\n",
              "\n",
              "          const docLinkHtml = 'Like what you see? Visit the ' +\n",
              "            '<a target=\"_blank\" href=https://colab.research.google.com/notebooks/data_table.ipynb>data table notebook</a>'\n",
              "            + ' to learn more about interactive tables.';\n",
              "          element.innerHTML = '';\n",
              "          dataTable['output_type'] = 'display_data';\n",
              "          await google.colab.output.renderOutput(dataTable, element);\n",
              "          const docLink = document.createElement('div');\n",
              "          docLink.innerHTML = docLinkHtml;\n",
              "          element.appendChild(docLink);\n",
              "        }\n",
              "      </script>\n",
              "    </div>\n",
              "  </div>\n",
              "  "
            ]
          },
          "metadata": {},
          "execution_count": 52
        }
      ],
      "source": [
        "import pandas as pd\n",
        "import numpy as np\n",
        "df = pd.DataFrame.from_records(rows, \n",
        "                                columns=['BatchCount', 'Date', 'TranType', 'Action', 'TranCount'])\n",
        "\n",
        "df = df.astype({'BatchCount': int, 'TranType': str, 'Date': np.datetime64, 'Action': str, 'TranCount': int  })\n",
        "\n",
        "df = df[['Date', 'TranCount']]\n",
        "\n",
        "df_final = df.groupby('Date').sum()\n",
        "\n",
        "df_final"
      ]
    },
    {
      "cell_type": "markdown",
      "metadata": {
        "id": "1IXSYpb8mjkQ"
      },
      "source": [
        "Next step is to plot the data, to see if its stationary or not. To see the values in our case (transactions) are less or more associated with time. \n",
        "\n",
        "\n",
        "1. Constant Mean\n",
        "2. Constant Variance(There can be variations, but the variations shouldn’t be irregular)\n",
        "3. No seasonality(No repeating patterns in the data set)"
      ]
    },
    {
      "cell_type": "code",
      "execution_count": 53,
      "metadata": {
        "id": "1GS97aZme40s",
        "colab": {
          "base_uri": "https://localhost:8080/",
          "height": 343
        },
        "outputId": "b6b247b3-5cdc-4b82-a0b3-c7aa484c5b54"
      },
      "outputs": [
        {
          "output_type": "execute_result",
          "data": {
            "text/plain": [
              "<matplotlib.axes._subplots.AxesSubplot at 0x7efc36f99e10>"
            ]
          },
          "metadata": {},
          "execution_count": 53
        },
        {
          "output_type": "display_data",
          "data": {
            "text/plain": [
              "<Figure size 864x360 with 1 Axes>"
            ],
            "image/png": "[encoded data removed]"
          },
          "metadata": {
            "needs_background": "light"
          }
        }
      ],
      "source": [
        "from dateutil.parser import parse \n",
        "import matplotlib as mpl\n",
        "import matplotlib.pyplot as plt\n",
        "import seaborn as sns\n",
        "\n",
        "df_final['TranCount'].plot(figsize=(12,5))"
      ]
    },
    {
      "cell_type": "markdown",
      "metadata": {
        "id": "HrlozAVnwNwb"
      },
      "source": [
        "To check to see if the data is statistically stationary, we run a adfuller test. If the p-value < 0.05 then the data is stationary, otherwise it isn't. As you can see below, it is less then 0.05, therefore we can confirm its stationary."
      ]
    },
    {
      "cell_type": "code",
      "execution_count": 54,
      "metadata": {
        "id": "ZlgoKbYkvKhR",
        "colab": {
          "base_uri": "https://localhost:8080/"
        },
        "outputId": "85ca9703-953f-4870-8057-f352c8bfa475"
      },
      "outputs": [
        {
          "output_type": "stream",
          "name": "stdout",
          "text": [
            "1. ADF :  -17.074160514200795\n",
            "2. P-Value :  7.787833185945982e-30\n",
            "3. Num Of Lags :  0\n",
            "4. Num Of Observations Used For ADF Regression: 608\n",
            "5. Critical Values :\n",
            "\t 1% :  -3.4411511898545206\n",
            "\t 5% :  -2.866305414688104\n",
            "\t 10% :  -2.569307861950312\n"
          ]
        }
      ],
      "source": [
        "from statsmodels.tsa.stattools import adfuller\n",
        "\n",
        "def ad_test(dataset):\n",
        "     dftest = adfuller(dataset, autolag = 'AIC')\n",
        "     print(\"1. ADF : \",dftest[0])\n",
        "     print(\"2. P-Value : \", dftest[1])\n",
        "     print(\"3. Num Of Lags : \", dftest[2])\n",
        "     print(\"4. Num Of Observations Used For ADF Regression:\",      dftest[3])\n",
        "     print(\"5. Critical Values :\")\n",
        "     for key, val in dftest[4].items():\n",
        "         print(\"\\t\",key, \": \", val)\n",
        "\n",
        "\n",
        "ad_test(df_final['TranCount'])"
      ]
    },
    {
      "cell_type": "markdown",
      "metadata": {
        "id": "D99M6Piqzb8z"
      },
      "source": [
        "We simple supply our data to the auto_arima function. The function basically uses something called as the AIC score to judge how good a particular order model is. It simply tries to minimize the AIC score, and here’s how the output looks like:"
      ]
    },
    {
      "cell_type": "markdown",
      "metadata": {
        "id": "P9KM9gxj0JBL"
      },
      "source": [
        "We now have to split the data set into a training and testing section. We do this because we first train the model on the data and keep the testing section hidden from the model. Once model is ready, we ask it to make predictions on the test data and see how well it performs."
      ]
    },
    {
      "cell_type": "code",
      "source": [
        "from pmdarima.model_selection import train_test_split\n",
        "from pmdarima import auto_arima\n",
        "\n",
        "y = df_final['TranCount']\n",
        "\n",
        "train, test = train_test_split(y, train_size=300)\n",
        "\n",
        "# Fit your model\n",
        "model = auto_arima(train, seasonal=False)\n",
        "\n",
        "# make your forecasts\n",
        "forecasts = model.predict(test.shape[0])  # predict N steps into the future"
      ],
      "metadata": {
        "id": "-CnhYwCELtSz"
      },
      "execution_count": 59,
      "outputs": []
    },
    {
      "cell_type": "code",
      "source": [
        "from dateutil import parser\n",
        "\n",
        "date1 = parser.parse('2022-06-20')\n",
        "date2 = parser.parse('2022-07-21')\n",
        "\n",
        "diff = date2 - date1\n",
        "\n",
        "\n",
        "model.predict(diff.days).sum()  # Sum the transactions in 15 days ... "
      ],
      "metadata": {
        "colab": {
          "base_uri": "https://localhost:8080/"
        },
        "id": "0AyLXi7eOwK4",
        "outputId": "cb54bce7-8f47-4b37-f13e-9e61540f8247"
      },
      "execution_count": 60,
      "outputs": [
        {
          "output_type": "execute_result",
          "data": {
            "text/plain": [
              "1590872.0622155326"
            ]
          },
          "metadata": {},
          "execution_count": 60
        }
      ]
    }
  ],
  "metadata": {
    "colab": {
      "collapsed_sections": [
        "6otACoqyjJcp"
      ],
      "name": "Time Series Forecasting (ARIMA).ipynb",
      "toc_visible": true,
      "provenance": [],
      "authorship_tag": "ABX9TyOD6LwTsP3+UKk82zYIaqg5",
      "include_colab_link": true
    },
    "kernelspec": {
      "display_name": "Python 3",
      "name": "python3"
    },
    "language_info": {
      "name": "python"
    }
  },
  "nbformat": 4,
  "nbformat_minor": 0
}